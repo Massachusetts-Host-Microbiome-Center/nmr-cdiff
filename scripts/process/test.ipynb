{
 "cells": [
  {
   "cell_type": "code",
   "execution_count": 10,
   "id": "2bc63677-92bd-4a12-b8dc-e15b2bb0cf5f",
   "metadata": {
    "tags": []
   },
   "outputs": [],
   "source": [
    "import os\n",
    "\n",
    "import matplotlib.pyplot as plt\n",
    "import numpy as np\n",
    "\n",
    "from process import process_stack, detect_spectra"
   ]
  },
  {
   "cell_type": "code",
   "execution_count": null,
   "id": "6a30ce22-9396-4cf9-ab29-1ef88134632d",
   "metadata": {
    "tags": []
   },
   "outputs": [],
   "source": [
    "%matplotlib widget\n",
    "\n",
    "y = np.arange(50)\n",
    "plt.plot(y)\n",
    "\n",
    "result = input(\"Will the code keep going?\")"
   ]
  },
  {
   "cell_type": "code",
   "execution_count": null,
   "id": "56b734e6-90f0-4b77-a592-f0f69a57d1e9",
   "metadata": {},
   "outputs": [],
   "source": []
  }
 ],
 "metadata": {
  "kernelspec": {
   "display_name": "Python 3",
   "language": "python",
   "name": "python3"
  },
  "language_info": {
   "codemirror_mode": {
    "name": "ipython",
    "version": 3
   },
   "file_extension": ".py",
   "mimetype": "text/x-python",
   "name": "python",
   "nbconvert_exporter": "python",
   "pygments_lexer": "ipython3",
   "version": "3.9.7"
  }
 },
 "nbformat": 4,
 "nbformat_minor": 5
}
